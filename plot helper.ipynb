{
 "cells": [
  {
   "cell_type": "code",
   "execution_count": 1,
   "id": "a5505f24",
   "metadata": {},
   "outputs": [],
   "source": [
    "import pandas as pd\n",
    "import numpy as np\n",
    "import matplotlib\n",
    "from darts import TimeSeries\n",
    "import matplotlib.pyplot as plt\n"
   ]
  },
  {
   "cell_type": "code",
   "execution_count": 47,
   "id": "c760d2ab",
   "metadata": {},
   "outputs": [],
   "source": [
    "def load_val(file_path='data/SampleHierForecastingBASF_share.xlsx'):\n",
    "  df = pd.read_excel(file_path)\n",
    "  df['Date'] = pd.to_datetime(df['Date'], format='%d.%m.%y')\n",
    "  df = df.sort_values(by='Date')\n",
    "  numeric_cols = ['EBIT', #'EBITDA', 'DepreciationAmortization',\n",
    "                  'VariableCosts', 'NetSales', 'ContributionMargin1', 'FixCosts']\n",
    "  df[numeric_cols] = df[numeric_cols].apply(pd.to_numeric, errors='coerce')\n",
    "  df = df[['Date','EBIT']]\n",
    "  return df\n",
    "\n",
    "#log scaling too?"
   ]
  },
  {
   "cell_type": "code",
   "execution_count": 48,
   "id": "72fffa59",
   "metadata": {},
   "outputs": [],
   "source": [
    "preds = pd.read_csv('output/predictions_var0') \n",
    "pivoted = preds.pivot( index='Date', columns='Name', values='Predictions')\n",
    "pivoted.index = pd.to_datetime(pivoted.index)\n",
    "#predictions_ts = TimeSeries.from_dataframe(pivoted)"
   ]
  },
  {
   "cell_type": "code",
   "execution_count": 49,
   "id": "71782d6d",
   "metadata": {},
   "outputs": [],
   "source": [
    "val = load_val()\n",
    "val=val.set_index('Date')\n",
    "val.index = pd.to_datetime(val.index)\n",
    "val.columns=['Actuals']"
   ]
  },
  {
   "cell_type": "code",
   "execution_count": 50,
   "id": "e1401c77",
   "metadata": {},
   "outputs": [],
   "source": [
    "pivoted = pivoted.join(val, how='left')"
   ]
  },
  {
   "cell_type": "code",
   "execution_count": 51,
   "id": "67acab99",
   "metadata": {},
   "outputs": [],
   "source": [
    "predictions_ts = TimeSeries.from_dataframe(pivoted)"
   ]
  },
  {
   "cell_type": "code",
   "execution_count": 53,
   "id": "bce42b75",
   "metadata": {},
   "outputs": [],
   "source": [
    "all = ['ARIMA, Uni', 'ExponentialSmoothing, Uni', 'LinearRegression',\n",
    "       'LinearRegression, Bottom Up', 'LinearRegression, MiNT',\n",
    "       'LinearRegression, Top Down', 'LinearRegression, Uni', 'NBEATSModel',\n",
    "       'NBEATSModel, Bottom Up', 'NBEATSModel, MiNT', 'NBEATSModel, Top Down',\n",
    "       'NBEATSModel, Uni', 'Prophet, Uni', 'XGBRegressor',\n",
    "       'XGBRegressor, Bottom Up', 'XGBRegressor, MiNT',\n",
    "       'XGBRegressor, Top Down', 'XGBRegressor, Uni', 'per series, Bottom Up',\n",
    "       'per series, MiNT', 'per series, Top Down', 'Actuals'],"
   ]
  },
  {
   "cell_type": "code",
   "execution_count": 54,
   "id": "59687ae4",
   "metadata": {},
   "outputs": [],
   "source": [
    "best = ['ExponentialSmoothing, Uni',  'LinearRegression, MiNT',\n",
    "       'NBEATSModel, Uni', 'XGBRegressor, MiNT',\n",
    "       'XGBRegressor',\n",
    "       'per series, MiNT'],"
   ]
  },
  {
   "cell_type": "code",
   "execution_count": null,
   "id": "9851a0fd",
   "metadata": {},
   "outputs": [
    {
     "data": {
      "text/plain": [
       "Index(['ARIMA, Uni', 'ExponentialSmoothing, Uni', 'LinearRegression',\n",
       "       'LinearRegression, Bottom Up', 'LinearRegression, MiNT',\n",
       "       'LinearRegression, Top Down', 'LinearRegression, Uni', 'NBEATSModel',\n",
       "       'NBEATSModel, Bottom Up', 'NBEATSModel, MiNT', 'NBEATSModel, Top Down',\n",
       "       'NBEATSModel, Uni', 'Prophet, Uni', 'XGBRegressor',\n",
       "       'XGBRegressor, Bottom Up', 'XGBRegressor, MiNT',\n",
       "       'XGBRegressor, Top Down', 'XGBRegressor, Uni', 'per series, Bottom Up',\n",
       "       'per series, MiNT', 'per series, Top Down', 'Actuals'],\n",
       "      dtype='object', name='component')"
      ]
     },
     "execution_count": 52,
     "metadata": {},
     "output_type": "execute_result"
    }
   ],
   "source": [
    "ax = plt.gca()\n",
    "ax.plot()\n",
    "for b in best:\n",
    "    ax.plot(predictions_ts[best])"
   ]
  }
 ],
 "metadata": {
  "kernelspec": {
   "display_name": "Python 3",
   "language": "python",
   "name": "python3"
  },
  "language_info": {
   "codemirror_mode": {
    "name": "ipython",
    "version": 3
   },
   "file_extension": ".py",
   "mimetype": "text/x-python",
   "name": "python",
   "nbconvert_exporter": "python",
   "pygments_lexer": "ipython3",
   "version": "3.13.3"
  }
 },
 "nbformat": 4,
 "nbformat_minor": 5
}
